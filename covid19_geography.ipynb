{
 "cells": [
  {
   "cell_type": "markdown",
   "metadata": {},
   "source": [
    "# COVID-19 Data Analysis\n",
    "\n",
    "## Analyze County-level cases/deaths based on geographical parameters"
   ]
  },
  {
   "cell_type": "markdown",
   "metadata": {},
   "source": [
    "## Data Source\n",
    "\n",
    "Data Overview: https://coronavirus-resources.esri.com/?adumkts=industry_solutions&aduse=local_state&aduc=email&adum=list&utm_Source=email&aduca=mi_smart_communities&aduco=coronavirus_hub_resources&adut=950533&adupt=awareness&sf_id=7015x000000iQIAAA2&aducp=operational_second_body_text\n",
    "\n",
    "Data source URL: https://opendata.arcgis.com/datasets/628578697fb24d8ea4c32fa0c5ae1843_0.csv"
   ]
  },
  {
   "cell_type": "code",
   "execution_count": 33,
   "metadata": {},
   "outputs": [
    {
     "name": "stdout",
     "output_type": "stream",
     "text": [
      "3.6.10 |Anaconda, Inc.| (default, Mar 23 2020, 17:58:33) [MSC v.1916 64 bit (AMD64)]\n"
     ]
    }
   ],
   "source": [
    "import sys\n",
    "print(sys.version)"
   ]
  },
  {
   "cell_type": "code",
   "execution_count": 39,
   "metadata": {},
   "outputs": [
    {
     "data": {
      "text/plain": [
       "'D:\\\\Dropbox\\\\jupyter\\\\IBM_AdvDS_C4'"
      ]
     },
     "execution_count": 39,
     "metadata": {},
     "output_type": "execute_result"
    }
   ],
   "source": [
    "pwd"
   ]
  },
  {
   "cell_type": "code",
   "execution_count": 40,
   "metadata": {},
   "outputs": [
    {
     "name": "stdout",
     "output_type": "stream",
     "text": [
      " Volume in drive D is DATA\n",
      " Volume Serial Number is 4060-82AE\n",
      "\n",
      " Directory of D:\\Dropbox\\jupyter\\IBM_AdvDS_C4\n",
      "\n",
      "04/12/2020  04:09 PM    <DIR>          .\n",
      "04/12/2020  04:09 PM    <DIR>          ..\n",
      "04/11/2020  03:13 PM    <DIR>          .ipynb_checkpoints\n",
      "04/12/2020  04:10 PM           521,831 COVID19_Cases_US.csv\n",
      "04/12/2020  04:09 PM             4,612 covid19_geography.ipynb\n",
      "04/11/2020  04:19 PM           298,606 Lightweight_IBM Cloud_Garage_Method_for_Data_Science_ADD_Template.docx\n",
      "04/12/2020  04:07 PM                22 README.md\n",
      "               4 File(s)        825,071 bytes\n",
      "               3 Dir(s)  686,810,193,920 bytes free\n"
     ]
    }
   ],
   "source": [
    "ls"
   ]
  },
  {
   "cell_type": "code",
   "execution_count": 41,
   "metadata": {},
   "outputs": [],
   "source": [
    "import arcpy\n",
    "import arcgis\n",
    "import pandas as pd\n",
    "import numpy as np"
   ]
  },
  {
   "cell_type": "code",
   "execution_count": 42,
   "metadata": {},
   "outputs": [],
   "source": [
    "covid_dl = pd.read_csv(\"https://opendata.arcgis.com/datasets/628578697fb24d8ea4c32fa0c5ae1843_0.csv\")"
   ]
  },
  {
   "cell_type": "code",
   "execution_count": 38,
   "metadata": {},
   "outputs": [],
   "source": [
    "covid_dl.to_csv(\"COVID19_Cases_US.csv\")"
   ]
  },
  {
   "cell_type": "code",
   "execution_count": 43,
   "metadata": {},
   "outputs": [
    {
     "name": "stdout",
     "output_type": "stream",
     "text": [
      "<class 'pandas.core.frame.DataFrame'>\n",
      "RangeIndex: 2711 entries, 0 to 2710\n",
      "Data columns (total 20 columns):\n",
      " #   Column               Non-Null Count  Dtype  \n",
      "---  ------               --------------  -----  \n",
      " 0   X                    2658 non-null   float64\n",
      " 1   Y                    2658 non-null   float64\n",
      " 2   OBJECTID             2711 non-null   int64  \n",
      " 3   Province_State       2711 non-null   object \n",
      " 4   Country_Region       2711 non-null   object \n",
      " 5   Last_Update          2711 non-null   object \n",
      " 6   Lat                  2658 non-null   float64\n",
      " 7   Long_                2658 non-null   float64\n",
      " 8   Confirmed            2711 non-null   int64  \n",
      " 9   Recovered            2711 non-null   int64  \n",
      " 10  Deaths               2711 non-null   int64  \n",
      " 11  Active               2711 non-null   int64  \n",
      " 12  Admin2               2711 non-null   object \n",
      " 13  FIPS                 2695 non-null   float64\n",
      " 14  Combined_Key         2711 non-null   object \n",
      " 15  Incident_Rate        2659 non-null   float64\n",
      " 16  People_Tested        0 non-null      float64\n",
      " 17  People_Hospitalized  0 non-null      float64\n",
      " 18  UID                  2709 non-null   float64\n",
      " 19  ISO3                 2709 non-null   object \n",
      "dtypes: float64(9), int64(5), object(6)\n",
      "memory usage: 423.7+ KB\n"
     ]
    }
   ],
   "source": [
    "covid_dl.info()"
   ]
  },
  {
   "cell_type": "code",
   "execution_count": 25,
   "metadata": {},
   "outputs": [
    {
     "data": {
      "text/plain": [
       "2699"
      ]
     },
     "execution_count": 25,
     "metadata": {},
     "output_type": "execute_result"
    }
   ],
   "source": [
    "len(covid_dl)"
   ]
  },
  {
   "cell_type": "code",
   "execution_count": 28,
   "metadata": {},
   "outputs": [
    {
     "data": {
      "text/plain": [
       "52"
      ]
     },
     "execution_count": 28,
     "metadata": {},
     "output_type": "execute_result"
    }
   ],
   "source": [
    "len(covid_dl[covid_dl[\"X\"].isna()])"
   ]
  },
  {
   "cell_type": "code",
   "execution_count": null,
   "metadata": {},
   "outputs": [],
   "source": []
  }
 ],
 "metadata": {
  "kernelspec": {
   "display_name": "Python 3",
   "language": "python",
   "name": "python3"
  },
  "language_info": {
   "codemirror_mode": {
    "name": "ipython",
    "version": 3
   },
   "file_extension": ".py",
   "mimetype": "text/x-python",
   "name": "python",
   "nbconvert_exporter": "python",
   "pygments_lexer": "ipython3",
   "version": "3.6.10"
  }
 },
 "nbformat": 4,
 "nbformat_minor": 4
}
